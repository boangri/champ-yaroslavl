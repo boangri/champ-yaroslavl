{
 "cells": [
  {
   "cell_type": "code",
   "execution_count": 1,
   "metadata": {
    "execution": {
     "iopub.execute_input": "2022-06-18T14:28:12.935826Z",
     "iopub.status.busy": "2022-06-18T14:28:12.935302Z",
     "iopub.status.idle": "2022-06-18T14:28:20.190768Z",
     "shell.execute_reply": "2022-06-18T14:28:20.189961Z",
     "shell.execute_reply.started": "2022-06-18T14:28:12.935753Z"
    },
    "id": "_EeOCvUwhVSP"
   },
   "outputs": [
    {
     "ename": "ModuleNotFoundError",
     "evalue": "No module named 'tensorflow'",
     "output_type": "error",
     "traceback": [
      "\u001B[0;31m---------------------------------------------------------------------------\u001B[0m",
      "\u001B[0;31mModuleNotFoundError\u001B[0m                       Traceback (most recent call last)",
      "Input \u001B[0;32mIn [1]\u001B[0m, in \u001B[0;36m<cell line: 9>\u001B[0;34m()\u001B[0m\n\u001B[1;32m      5\u001B[0m \u001B[38;5;28;01mimport\u001B[39;00m \u001B[38;5;21;01mrandom\u001B[39;00m\n\u001B[1;32m      7\u001B[0m \u001B[38;5;28;01mimport\u001B[39;00m \u001B[38;5;21;01mmatplotlib\u001B[39;00m\u001B[38;5;21;01m.\u001B[39;00m\u001B[38;5;21;01mpyplot\u001B[39;00m \u001B[38;5;28;01mas\u001B[39;00m \u001B[38;5;21;01mplt\u001B[39;00m\n\u001B[0;32m----> 9\u001B[0m \u001B[38;5;28;01mimport\u001B[39;00m \u001B[38;5;21;01mtensorflow\u001B[39;00m \u001B[38;5;28;01mas\u001B[39;00m \u001B[38;5;21;01mtf\u001B[39;00m\n\u001B[1;32m     10\u001B[0m \u001B[38;5;28;01mfrom\u001B[39;00m \u001B[38;5;21;01mtensorflow\u001B[39;00m\u001B[38;5;21;01m.\u001B[39;00m\u001B[38;5;21;01mkeras\u001B[39;00m\u001B[38;5;21;01m.\u001B[39;00m\u001B[38;5;21;01mmodels\u001B[39;00m \u001B[38;5;28;01mimport\u001B[39;00m Sequential \n\u001B[1;32m     11\u001B[0m \u001B[38;5;28;01mfrom\u001B[39;00m \u001B[38;5;21;01mtensorflow\u001B[39;00m\u001B[38;5;21;01m.\u001B[39;00m\u001B[38;5;21;01mkeras\u001B[39;00m\u001B[38;5;21;01m.\u001B[39;00m\u001B[38;5;21;01mlayers\u001B[39;00m \u001B[38;5;28;01mimport\u001B[39;00m Dense, Activation, Dropout, BatchNormalization \n",
      "\u001B[0;31mModuleNotFoundError\u001B[0m: No module named 'tensorflow'"
     ]
    }
   ],
   "source": [
    "import os\n",
    "import pandas as pd \n",
    "import numpy as np\n",
    "# from numpy.random import seed\n",
    "import random\n",
    "\n",
    "import matplotlib.pyplot as plt\n",
    "\n",
    "import tensorflow as tf\n",
    "from tensorflow.keras.models import Sequential \n",
    "from tensorflow.keras.layers import Dense, Activation, Dropout, BatchNormalization \n",
    "from tensorflow.keras import utils \n",
    "from tensorflow.keras.optimizers import Adam, Adadelta\n",
    "from tensorflow.keras.metrics import AUC\n",
    "\n",
    "from sklearn.metrics import roc_auc_score, recall_score\n",
    "from sklearn.model_selection import KFold\n",
    "from hyperopt import tpe, hp, fmin, STATUS_OK, Trials\n",
    "from hyperopt.pyll.base import scope\n",
    "from hyperopt import space_eval"
   ]
  },
  {
   "cell_type": "markdown",
   "metadata": {
    "id": "cz2r6B_-V8xo"
   },
   "source": [
    "## Подготовка данных"
   ]
  },
  {
   "cell_type": "code",
   "execution_count": 2,
   "metadata": {
    "execution": {
     "iopub.execute_input": "2022-06-18T14:28:31.742136Z",
     "iopub.status.busy": "2022-06-18T14:28:31.741275Z",
     "iopub.status.idle": "2022-06-18T14:28:35.983124Z",
     "shell.execute_reply": "2022-06-18T14:28:35.982060Z",
     "shell.execute_reply.started": "2022-06-18T14:28:31.742100Z"
    },
    "id": "P0xR7iLnh47y",
    "outputId": "ba377c4b-7a87-4859-c630-ccea0d06f800"
   },
   "outputs": [],
   "source": [
    "!wget https://lodmedia.hb.bizmrg.com/case_files/758269/train_dataset_train.zip\n",
    "!wget https://lodmedia.hb.bizmrg.com/case_files/758269/test_dataset_test.csv\n",
    "!md5sum train_dataset_train.zip test_dataset_test.csv"
   ]
  },
  {
   "cell_type": "code",
   "execution_count": 3,
   "metadata": {
    "execution": {
     "iopub.execute_input": "2022-06-18T14:28:45.769680Z",
     "iopub.status.busy": "2022-06-18T14:28:45.769231Z",
     "iopub.status.idle": "2022-06-18T14:28:46.482047Z",
     "shell.execute_reply": "2022-06-18T14:28:46.481083Z",
     "shell.execute_reply.started": "2022-06-18T14:28:45.769634Z"
    },
    "id": "aQifaMwbjF6r",
    "outputId": "21882d3f-8339-4135-b405-e0ca978f3e53"
   },
   "outputs": [],
   "source": [
    "!unzip train_dataset_train.zip"
   ]
  },
  {
   "cell_type": "code",
   "execution_count": 4,
   "metadata": {
    "execution": {
     "iopub.execute_input": "2022-06-18T14:28:47.855582Z",
     "iopub.status.busy": "2022-06-18T14:28:47.854695Z",
     "iopub.status.idle": "2022-06-18T14:28:47.881267Z",
     "shell.execute_reply": "2022-06-18T14:28:47.880583Z",
     "shell.execute_reply.started": "2022-06-18T14:28:47.855538Z"
    },
    "id": "wueZif4sjF2I"
   },
   "outputs": [],
   "source": [
    "data_df = pd.read_csv('train.csv')\n",
    "# data_df"
   ]
  },
  {
   "cell_type": "code",
   "execution_count": 5,
   "metadata": {
    "execution": {
     "iopub.execute_input": "2022-06-18T14:28:50.405361Z",
     "iopub.status.busy": "2022-06-18T14:28:50.404253Z",
     "iopub.status.idle": "2022-06-18T14:28:50.428270Z",
     "shell.execute_reply": "2022-06-18T14:28:50.427485Z",
     "shell.execute_reply.started": "2022-06-18T14:28:50.405315Z"
    },
    "id": "Eztr51ZnjFxS"
   },
   "outputs": [],
   "source": [
    "test_df = pd.read_csv('test_dataset_test.csv')\n",
    "# test_df"
   ]
  },
  {
   "cell_type": "code",
   "execution_count": 6,
   "metadata": {
    "execution": {
     "iopub.execute_input": "2022-06-18T14:28:54.310605Z",
     "iopub.status.busy": "2022-06-18T14:28:54.310207Z",
     "iopub.status.idle": "2022-06-18T14:28:54.322255Z",
     "shell.execute_reply": "2022-06-18T14:28:54.320051Z",
     "shell.execute_reply.started": "2022-06-18T14:28:54.310572Z"
    },
    "id": "Bzd5sH6U_V_H"
   },
   "outputs": [],
   "source": [
    "data_df['Сигарет в день'] = data_df['Сигарет в день'].fillna(0)\n",
    "test_df['Сигарет в день'] = test_df['Сигарет в день'].fillna(0)"
   ]
  },
  {
   "cell_type": "code",
   "execution_count": 7,
   "metadata": {
    "execution": {
     "iopub.execute_input": "2022-06-18T14:28:56.444817Z",
     "iopub.status.busy": "2022-06-18T14:28:56.444147Z",
     "iopub.status.idle": "2022-06-18T14:28:56.449781Z",
     "shell.execute_reply": "2022-06-18T14:28:56.449012Z",
     "shell.execute_reply.started": "2022-06-18T14:28:56.444777Z"
    },
    "id": "DZnQDwzKjFoN"
   },
   "outputs": [],
   "source": [
    "# Создаём словарь поле - его индекс\n",
    "def create_dict(s):\n",
    "  ret = {}                          # Создаём пустой словарь\n",
    "  for _id, name in enumerate(s):    # Проходим по всем парам - id и название\n",
    "    ret.update({name: _id})         # Добавляем в словарь\n",
    "  return ret"
   ]
  },
  {
   "cell_type": "code",
   "execution_count": 8,
   "metadata": {
    "execution": {
     "iopub.execute_input": "2022-06-18T14:28:58.609152Z",
     "iopub.status.busy": "2022-06-18T14:28:58.606872Z",
     "iopub.status.idle": "2022-06-18T14:28:58.617526Z",
     "shell.execute_reply": "2022-06-18T14:28:58.616482Z",
     "shell.execute_reply.started": "2022-06-18T14:28:58.609114Z"
    },
    "id": "fPZYOfEbmwuA",
    "outputId": "79824d84-832c-4dec-ded9-df22ff6a70ee"
   },
   "outputs": [],
   "source": [
    "data_df.columns"
   ]
  },
  {
   "cell_type": "code",
   "execution_count": 9,
   "metadata": {
    "execution": {
     "iopub.execute_input": "2022-06-18T14:29:04.632572Z",
     "iopub.status.busy": "2022-06-18T14:29:04.632194Z",
     "iopub.status.idle": "2022-06-18T14:29:04.638629Z",
     "shell.execute_reply": "2022-06-18T14:29:04.637568Z",
     "shell.execute_reply.started": "2022-06-18T14:29:04.632538Z"
    },
    "id": "zof46edAnLj-"
   },
   "outputs": [],
   "source": [
    "mul_features = ['Пол', 'Семья', 'Этнос', #'Национальность', 'Религия',\n",
    "       'Образование', 'Профессия',\n",
    "       'Статус Курения',\n",
    "       'Частота пасс кур', 'Алкоголь']\n",
    "    #    'Время засыпания', 'Время пробуждения']\n",
    "    #    'Возраст курения', 'Возраст алког',\n",
    "bin_features = ['Вы работаете?', 'Выход на пенсию',\n",
    "       'Прекращение работы по болезни', 'Сахарный диабет', 'Гепатит',\n",
    "       'Онкология', 'Хроническое заболевание легких', 'Бронжиальная астма',\n",
    "       'Туберкулез легких ', 'ВИЧ/СПИД',\n",
    "       'Регулярный прим лекарственных средств', 'Травмы за год', 'Переломы',\n",
    "       'Пассивное курение', \n",
    "       'Сон после обеда',\n",
    "       'Спорт, клубы', 'Религия, клубы']"
   ]
  },
  {
   "cell_type": "code",
   "execution_count": 10,
   "metadata": {
    "execution": {
     "iopub.execute_input": "2022-06-18T14:29:06.675229Z",
     "iopub.status.busy": "2022-06-18T14:29:06.674856Z",
     "iopub.status.idle": "2022-06-18T14:29:06.679764Z",
     "shell.execute_reply": "2022-06-18T14:29:06.678710Z",
     "shell.execute_reply.started": "2022-06-18T14:29:06.675197Z"
    },
    "id": "N5aTYLll1S2z"
   },
   "outputs": [],
   "source": [
    "diseases = ['Артериальная гипертензия',\n",
    "       'ОНМК', 'Стенокардия, ИБС, инфаркт миокарда',\n",
    "       'Сердечная недостаточность', 'Прочие заболевания сердца']"
   ]
  },
  {
   "cell_type": "code",
   "execution_count": 11,
   "metadata": {
    "execution": {
     "iopub.execute_input": "2022-06-18T14:29:08.157251Z",
     "iopub.status.busy": "2022-06-18T14:29:08.156604Z",
     "iopub.status.idle": "2022-06-18T14:29:08.174259Z",
     "shell.execute_reply": "2022-06-18T14:29:08.173119Z",
     "shell.execute_reply.started": "2022-06-18T14:29:08.157203Z"
    },
    "id": "83oVvViDIOKt"
   },
   "outputs": [],
   "source": [
    "all_df = pd.concat([data_df, test_df])"
   ]
  },
  {
   "cell_type": "code",
   "execution_count": 12,
   "metadata": {
    "execution": {
     "iopub.execute_input": "2022-06-18T14:29:09.663133Z",
     "iopub.status.busy": "2022-06-18T14:29:09.662182Z",
     "iopub.status.idle": "2022-06-18T14:29:09.673058Z",
     "shell.execute_reply": "2022-06-18T14:29:09.672178Z",
     "shell.execute_reply.started": "2022-06-18T14:29:09.663093Z"
    },
    "id": "vdCk1J6W9oD2",
    "outputId": "ffacf023-3e0a-477d-f595-928eab7ad35f"
   },
   "outputs": [],
   "source": [
    "dic = {}\n",
    "for feature in mul_features:\n",
    "    dic[feature] = create_dict(set(all_df[feature]))\n",
    "dic"
   ]
  },
  {
   "cell_type": "code",
   "execution_count": 13,
   "metadata": {
    "execution": {
     "iopub.execute_input": "2022-06-18T14:29:11.868442Z",
     "iopub.status.busy": "2022-06-18T14:29:11.868049Z",
     "iopub.status.idle": "2022-06-18T14:29:11.875126Z",
     "shell.execute_reply": "2022-06-18T14:29:11.874339Z",
     "shell.execute_reply.started": "2022-06-18T14:29:11.868396Z"
    },
    "id": "K5vYb5eYmzlx",
    "outputId": "030c2506-fa40-4efc-e7ff-8177e9d2e3c5"
   },
   "outputs": [],
   "source": [
    "y_data = []\n",
    "for i in range(5):\n",
    "    y_data.append(data_df[diseases[i]].values)\n",
    "    print(y_data[i].mean())"
   ]
  },
  {
   "cell_type": "code",
   "execution_count": 14,
   "metadata": {
    "execution": {
     "iopub.execute_input": "2022-06-18T14:29:13.998084Z",
     "iopub.status.busy": "2022-06-18T14:29:13.997674Z",
     "iopub.status.idle": "2022-06-18T14:29:14.331817Z",
     "shell.execute_reply": "2022-06-18T14:29:14.331005Z",
     "shell.execute_reply.started": "2022-06-18T14:29:13.998053Z"
    },
    "id": "b8F2ispjoIIm",
    "outputId": "9f09fd58-1a81-44c4-ceab-a8dc6d9f365f"
   },
   "outputs": [],
   "source": [
    "x_data = []\n",
    "\n",
    "for _id, person in enumerate(np.array(data_df)):\n",
    "    x_tr = []\n",
    "    for feature in mul_features:\n",
    "        arr = np.zeros(len(dic[feature]), np.float32)\n",
    "        arr[dic[feature][data_df.loc[_id, feature]]] = 1.\n",
    "        x_tr.extend(arr)\n",
    "\n",
    "    for feature in bin_features:\n",
    "        x_tr.append(data_df.loc[_id, feature])\n",
    "    x_tr.append(data_df.loc[_id, 'Сигарет в день'] / 10.)\n",
    "    x_data.append(x_tr)\n",
    "\n",
    "x_data = np.array(x_data, dtype=np.float32)\n",
    "x_train = x_data[:]\n",
    "# x_val = x_data[N:]\n",
    "y_train = []\n",
    "# y_val = []\n",
    "for i in range(5):\n",
    "    y_train.append(y_data[i])\n",
    "    # y_val.append(y_data[i][N:])\n",
    "\n",
    "print(x_train.shape, y_train[0].shape) #, x_val.shape, y_val[4].shape)"
   ]
  },
  {
   "cell_type": "code",
   "execution_count": 15,
   "metadata": {
    "execution": {
     "iopub.execute_input": "2022-06-18T14:29:17.197948Z",
     "iopub.status.busy": "2022-06-18T14:29:17.197461Z",
     "iopub.status.idle": "2022-06-18T14:29:17.423040Z",
     "shell.execute_reply": "2022-06-18T14:29:17.422207Z",
     "shell.execute_reply.started": "2022-06-18T14:29:17.197914Z"
    },
    "id": "n5fWBqlS_yzH",
    "outputId": "cff5ccf6-6ccf-461b-ceb0-bd6a09f895ee"
   },
   "outputs": [],
   "source": [
    "x_test = []\n",
    "\n",
    "for _id, person in enumerate(np.array(test_df)):\n",
    "    x_tr = []\n",
    "    # print(_id)\n",
    "    for feature in mul_features:\n",
    "        arr = np.zeros(len(dic[feature]), np.float64)\n",
    "        \n",
    "        # print(feature, test_df.loc[_id, feature])\n",
    "        arr[dic[feature][test_df.loc[_id, feature]]] = 1.\n",
    "        x_tr.extend(arr)\n",
    "\n",
    "    for feature in bin_features:\n",
    "        x_tr.append(test_df.loc[_id, feature])\n",
    "    x_tr.append(test_df.loc[_id, 'Сигарет в день'] / 10.)\n",
    "    x_test.append(x_tr)\n",
    "\n",
    "x_test = np.array(x_test, dtype=np.float64)\n",
    "x_test.shape"
   ]
  },
  {
   "cell_type": "markdown",
   "metadata": {
    "id": "YqSlaVjVTA2u"
   },
   "source": [
    "## Подбор гиперпараметров"
   ]
  },
  {
   "cell_type": "code",
   "execution_count": 16,
   "metadata": {
    "execution": {
     "iopub.execute_input": "2022-06-18T14:29:20.661280Z",
     "iopub.status.busy": "2022-06-18T14:29:20.660376Z",
     "iopub.status.idle": "2022-06-18T14:29:20.668902Z",
     "shell.execute_reply": "2022-06-18T14:29:20.667595Z",
     "shell.execute_reply.started": "2022-06-18T14:29:20.661243Z"
    },
    "id": "hQdkULK0NYZO"
   },
   "outputs": [],
   "source": [
    "def get_pred(probs, th=0.5):\n",
    "    y_pred = np.zeros(len(probs), dtype=np.float32)\n",
    "    for i, p in enumerate(probs):\n",
    "        if p > th:\n",
    "            y_pred[i] = 1\n",
    "    return y_pred\n",
    "\n",
    "def best_th(y_true, probs):\n",
    "    best_th = 0.5\n",
    "    best_recall = 0.\n",
    "    for th in np.linspace(0, 1, 201):\n",
    "        y_pred = get_pred(probs, th)\n",
    "        recall = recall_score(y_true, y_pred, average='macro')\n",
    "        if recall > best_recall:\n",
    "            best_recall = recall\n",
    "            best_th = th\n",
    "    # print(\"th=%.3f recall=%.4f\" % (best_th, best_recall))\n",
    "    return best_th, best_recall"
   ]
  },
  {
   "cell_type": "code",
   "execution_count": 17,
   "metadata": {
    "execution": {
     "iopub.execute_input": "2022-06-18T14:29:24.082134Z",
     "iopub.status.busy": "2022-06-18T14:29:24.081672Z",
     "iopub.status.idle": "2022-06-18T14:29:24.097555Z",
     "shell.execute_reply": "2022-06-18T14:29:24.096288Z",
     "shell.execute_reply.started": "2022-06-18T14:29:24.082087Z"
    },
    "id": "JmOlCI0fTJf4"
   },
   "outputs": [],
   "source": [
    "space = {\n",
    "    # \"batch_size\": hp.choice('batch_size', list(range(8, 128))),\n",
    "    # \"act_fn\": hp.choice('act_fn', ['sigmoid', 'tanh', 'elu', 'relu', 'relu6']),\n",
    "    \"opt\": hp.choice('opt', [\n",
    "        'adadelta',\n",
    "        'adagrad',\n",
    "        'adam',\n",
    "        'ftlr',\n",
    "        'nadam',\n",
    "        'rmsprop',\n",
    "        'sgd'\n",
    "    ]),\n",
    "    'num_layers': hp.choice('num_layers', [1, 2]),\n",
    "    'num_epochs': 15 + hp.randint('num_epochs', 60),\n",
    "    'lr': hp.uniform('lr', 1e-5, 1e-2),\n",
    "    \"latent_dim\": hp.choice('latent_dim', [64, 128, 256, 512, 1024, 2048]),\n",
    "    \"latent_dim2\": hp.choice('latent_dim2', [16, 32, 64, 128]),\n",
    "    \"dropout\": hp.uniform('dropout', 0., 1.),\n",
    "}"
   ]
  },
  {
   "cell_type": "code",
   "execution_count": 18,
   "metadata": {
    "execution": {
     "iopub.execute_input": "2022-06-18T14:29:27.272710Z",
     "iopub.status.busy": "2022-06-18T14:29:27.272040Z",
     "iopub.status.idle": "2022-06-18T14:29:27.284645Z",
     "shell.execute_reply": "2022-06-18T14:29:27.283631Z",
     "shell.execute_reply.started": "2022-06-18T14:29:27.272670Z"
    },
    "id": "kA3kr5TcTJc5"
   },
   "outputs": [],
   "source": [
    "def build_model(config):\n",
    "    model = Sequential()\n",
    "\n",
    "    model.add(Dense(config['latent_dim'], activation='relu'))\n",
    "    # if config['batch_norm'] > 0:\n",
    "    #     model.add(BatchNormalization())\n",
    "    model.add(Dropout(config['dropout']))\n",
    "\n",
    "    if config['num_layers'] > 1:\n",
    "        model.add(Dense(config['latent_dim2'], activation='relu'))\n",
    "        # if config['batch_norm'] > 0:\n",
    "        #     model.add(BatchNormalization())\n",
    "        model.add(Dropout(config['dropout']))\n",
    "\n",
    "    model.add(Dense(1, activation='sigmoid'))\n",
    "\n",
    "    if config['opt'] == 'adadelta':\n",
    "      opt = tf.keras.optimizers.Adadelta(learning_rate=config['lr'])\n",
    "    if config['opt'] == 'adagrad':\n",
    "      opt = tf.keras.optimizers.Adagrad(learning_rate=config['lr'])\n",
    "    if config['opt'] == 'adam':\n",
    "      opt = tf.keras.optimizers.Adam(learning_rate=config['lr'])\n",
    "    if config['opt'] == 'ftlr':\n",
    "      opt = tf.keras.optimizers.Ftrl(learning_rate=config['lr'])\n",
    "    if config['opt'] == 'nadam':\n",
    "      opt = tf.keras.optimizers.Nadam(learning_rate=config['lr'])\n",
    "    if config['opt'] == 'rmsprop':\n",
    "      opt = tf.keras.optimizers.RMSprop(learning_rate=config['lr'])\n",
    "    if config['opt'] == 'sgd':\n",
    "      opt = tf.keras.optimizers.SGD(learning_rate=config['lr'])\n",
    "    model.compile(\n",
    "        optimizer=opt, \n",
    "        loss='binary_crossentropy', \n",
    "        metrics=[\n",
    "        #   tf.keras.metrics.BinaryAccuracy(name='accuracy'),\n",
    "        #   tf.keras.metrics.Recall(name='recall'),\n",
    "        #   tf.keras.metrics.AUC(name='auc')\n",
    "        ]\n",
    "    )\n",
    "\n",
    "    return model"
   ]
  },
  {
   "cell_type": "code",
   "execution_count": 34,
   "metadata": {
    "execution": {
     "iopub.execute_input": "2022-06-18T15:29:50.880990Z",
     "iopub.status.busy": "2022-06-18T15:29:50.880096Z",
     "iopub.status.idle": "2022-06-18T15:29:50.889143Z",
     "shell.execute_reply": "2022-06-18T15:29:50.888012Z",
     "shell.execute_reply.started": "2022-06-18T15:29:50.880950Z"
    },
    "id": "wEReVbLHTJZo"
   },
   "outputs": [],
   "source": [
    "def cross_validation(config, X, y, num_folds, num_epochs):\n",
    "    cv_scores = []\n",
    "    ths = []\n",
    "    seed = 101\n",
    "    kf = KFold(n_splits=num_folds, random_state=seed, shuffle=True)\n",
    "    for train_index, val_index in kf.split(X):\n",
    "        x_train = x_data[train_index]\n",
    "        y_train = y[train_index]\n",
    "        x_val = x_data[val_index]\n",
    "        y_val = y[val_index]\n",
    "        tf.random.set_seed(seed)\n",
    "        model = build_model(config)\n",
    "        hist = model.fit(\n",
    "            x_train, y_train,\n",
    "            epochs = num_epochs,\n",
    "            batch_size=len(x_train),\n",
    "            # validation_data=(x_val, y_val),\n",
    "            verbose=0\n",
    "        )\n",
    "        val_probs = model.predict(x_val)\n",
    "        th, recall = best_th(y_val, val_probs)\n",
    "        # print(\"Recall=%.4f th=%.3f\" % (recall, th))\n",
    "        cv_scores.append(recall)\n",
    "        ths.append(th)\n",
    "    return cv_scores, ths"
   ]
  },
  {
   "cell_type": "code",
   "execution_count": 35,
   "metadata": {
    "execution": {
     "iopub.execute_input": "2022-06-18T15:30:07.138410Z",
     "iopub.status.busy": "2022-06-18T15:30:07.138044Z",
     "iopub.status.idle": "2022-06-18T15:30:07.145684Z",
     "shell.execute_reply": "2022-06-18T15:30:07.144714Z",
     "shell.execute_reply.started": "2022-06-18T15:30:07.138379Z"
    },
    "id": "95FB2q5iTJWf"
   },
   "outputs": [],
   "source": [
    "K_FOLDS = 5\n",
    "def objective(params):\n",
    "    d = params['d']\n",
    "    print(f\"d={d} Selected model hyperparams:\")\n",
    "    print(params)\n",
    "    cv, ths = cross_validation(\n",
    "        config=params,\n",
    "        X=x_data,\n",
    "        y=y_data[d],\n",
    "        num_folds=K_FOLDS,\n",
    "        num_epochs=params['num_epochs']\n",
    "    )\n",
    "    mean_cv = np.mean(cv)\n",
    "    std_cv = np.std(cv)\n",
    "    mean_th = np.mean(ths)\n",
    "    print('Avg CV score: %.4f Avg th: %.4f' % (mean_cv, mean_th))\n",
    "    return {'loss': -mean_cv, 'status': STATUS_OK, 'th': mean_th, 'recall': mean_cv, 'recall_std': std_cv, 'params': params}"
   ]
  },
  {
   "cell_type": "code",
   "execution_count": 36,
   "metadata": {
    "execution": {
     "iopub.execute_input": "2022-06-18T15:30:27.811094Z",
     "iopub.status.busy": "2022-06-18T15:30:27.810593Z",
     "iopub.status.idle": "2022-06-18T16:54:32.691311Z",
     "shell.execute_reply": "2022-06-18T16:54:32.690264Z",
     "shell.execute_reply.started": "2022-06-18T15:30:27.811064Z"
    },
    "id": "pAxKeQAgTJTu",
    "outputId": "39e2ab66-a3fe-46ce-bc34-537f635b4152"
   },
   "outputs": [],
   "source": [
    "%%time\n",
    "N_EVALS = 200\n",
    "best_configs = [None] * 5\n",
    "all_trials = [None] * 5\n",
    "for d in range(5):\n",
    "    space['d'] = d\n",
    "    trials = Trials()\n",
    "    best = fmin(\n",
    "        fn=objective,\n",
    "        space=space, \n",
    "        algo=tpe.suggest, \n",
    "        max_evals=N_EVALS, \n",
    "        trials=trials\n",
    "    )\n",
    "    all_trials[d] = trials\n",
    "    best_config = space_eval(space, best)\n",
    "    best_configs[d] = best_config\n",
    "best_configs"
   ]
  },
  {
   "cell_type": "markdown",
   "metadata": {},
   "source": [
    "```\n",
    "[{'d': 0,\n",
    "  'dropout': 0.5734774403761633,\n",
    "  'latent_dim': 256,\n",
    "  'latent_dim2': 64,\n",
    "  'lr': 0.0016233818518730145,\n",
    "  'num_epochs': 56,\n",
    "  'num_layers': 1,\n",
    "  'opt': 'adam'},\n",
    " {'d': 1,\n",
    "  'dropout': 0.450068425945272,\n",
    "  'latent_dim': 512,\n",
    "  'latent_dim2': 128,\n",
    "  'lr': 0.006648389773229169,\n",
    "  'num_epochs': 44,\n",
    "  'num_layers': 1,\n",
    "  'opt': 'adam'},\n",
    " {'d': 2,\n",
    "  'dropout': 0.9464760296798049,\n",
    "  'latent_dim': 128,\n",
    "  'latent_dim2': 64,\n",
    "  'lr': 0.008969297837338628,\n",
    "  'num_epochs': 40,\n",
    "  'num_layers': 1,\n",
    "  'opt': 'nadam'},\n",
    " {'d': 3,\n",
    "  'dropout': 0.822267450844782,\n",
    "  'latent_dim': 64,\n",
    "  'latent_dim2': 16,\n",
    "  'lr': 0.007205635676538558,\n",
    "  'num_epochs': 38,\n",
    "  'num_layers': 1,\n",
    "  'opt': 'nadam'},\n",
    " {'d': 4,\n",
    "  'dropout': 0.024777900663576657,\n",
    "  'latent_dim': 64,\n",
    "  'latent_dim2': 32,\n",
    "  'lr': 0.00704502498414389,\n",
    "  'num_epochs': 71,\n",
    "  'num_layers': 1,\n",
    "  'opt': 'rmsprop'}]\n",
    "  ```"
   ]
  },
  {
   "cell_type": "code",
   "execution_count": 37,
   "metadata": {
    "execution": {
     "iopub.execute_input": "2022-06-18T16:55:49.272545Z",
     "iopub.status.busy": "2022-06-18T16:55:49.271821Z",
     "iopub.status.idle": "2022-06-18T16:55:49.283880Z",
     "shell.execute_reply": "2022-06-18T16:55:49.283089Z",
     "shell.execute_reply.started": "2022-06-18T16:55:49.272511Z"
    },
    "id": "qq0nIFGI8nlK",
    "outputId": "e547dc75-b710-46e8-d1fb-84b1cf6d9578"
   },
   "outputs": [],
   "source": [
    "all_best_params = [None] * 5\n",
    "for d in range(5):\n",
    "    best_recall = 0\n",
    "    for res in all_trials[d].results:\n",
    "        recall = res['recall']\n",
    "        if recall > best_recall:\n",
    "            best_recall = recall\n",
    "            best_params = res['params']\n",
    "            best_params['recall'] = recall\n",
    "            best_params['recall_std'] = res['recall_std']\n",
    "            best_params['th'] = res['th']\n",
    "    all_best_params[d] = best_params\n",
    "all_best_params"
   ]
  },
  {
   "cell_type": "markdown",
   "metadata": {},
   "source": [
    "N=100 seed=42\n",
    "```\n",
    "[{'d': 0,\n",
    "  'dropout': 0.5734774403761633,\n",
    "  'latent_dim': 256,\n",
    "  'latent_dim2': 64,\n",
    "  'lr': 0.0016233818518730145,\n",
    "  'num_epochs': 56,\n",
    "  'num_layers': 1,\n",
    "  'opt': 'adam',\n",
    "  'recall': 0.741370765107158,\n",
    "  'recall_std': 0.014620953740119883,\n",
    "  'th': 0.43900000000000006},\n",
    " {'d': 1,\n",
    "  'dropout': 0.450068425945272,\n",
    "  'latent_dim': 512,\n",
    "  'latent_dim2': 128,\n",
    "  'lr': 0.006648389773229169,\n",
    "  'num_epochs': 44,\n",
    "  'num_layers': 1,\n",
    "  'opt': 'adam',\n",
    "  'recall': 0.740704607382484,\n",
    "  'recall_std': 0.10955485937401051,\n",
    "  'th': 0.062},\n",
    " {'d': 2,\n",
    "  'dropout': 0.9464760296798049,\n",
    "  'latent_dim': 128,\n",
    "  'latent_dim2': 64,\n",
    "  'lr': 0.008969297837338628,\n",
    "  'num_epochs': 40,\n",
    "  'num_layers': 1,\n",
    "  'opt': 'nadam',\n",
    "  'recall': 0.7353592991935203,\n",
    "  'recall_std': 0.030500378684814082,\n",
    "  'th': 0.134},\n",
    " {'d': 3,\n",
    "  'dropout': 0.822267450844782,\n",
    "  'latent_dim': 64,\n",
    "  'latent_dim2': 16,\n",
    "  'lr': 0.007205635676538558,\n",
    "  'num_epochs': 38,\n",
    "  'num_layers': 1,\n",
    "  'opt': 'nadam',\n",
    "  'recall': 0.720422176874554,\n",
    "  'recall_std': 0.055569887230576605,\n",
    "  'th': 0.085},\n",
    " {'d': 4,\n",
    "  'dropout': 0.024777900663576657,\n",
    "  'latent_dim': 64,\n",
    "  'latent_dim2': 32,\n",
    "  'lr': 0.00704502498414389,\n",
    "  'num_epochs': 71,\n",
    "  'num_layers': 1,\n",
    "  'opt': 'rmsprop',\n",
    "  'recall': 0.632316767963341,\n",
    "  'recall_std': 0.09494634984993429,\n",
    "  'th': 0.067}]\n",
    "```\n",
    "\n",
    "N=200 seed=42\n",
    "```\n",
    "[{'d': 0,\n",
    "  'dropout': 0.14945121897024244,\n",
    "  'latent_dim': 128,\n",
    "  'latent_dim2': 128,\n",
    "  'lr': 0.0009747128348755505,\n",
    "  'num_epochs': 43,\n",
    "  'num_layers': 2,\n",
    "  'opt': 'rmsprop',\n",
    "  'recall': 0.7404515741709105,\n",
    "  'recall_std': 0.018458233956510448,\n",
    "  'th': 0.4640000000000001},\n",
    " {'d': 1,\n",
    "  'dropout': 0.7691112910491312,\n",
    "  'latent_dim': 64,\n",
    "  'latent_dim2': 128,\n",
    "  'lr': 0.006500364050753514,\n",
    "  'num_epochs': 34,\n",
    "  'num_layers': 2,\n",
    "  'opt': 'nadam',\n",
    "  'recall': 0.6960120169584498,\n",
    "  'recall_std': 0.09074418483503259,\n",
    "  'th': 0.027000000000000003},\n",
    " {'d': 2,\n",
    "  'dropout': 0.22627320459511344,\n",
    "  'latent_dim': 256,\n",
    "  'latent_dim2': 64,\n",
    "  'lr': 0.0008823890513231178,\n",
    "  'num_epochs': 61,\n",
    "  'num_layers': 2,\n",
    "  'opt': 'adam',\n",
    "  'recall': 0.7355128594367655,\n",
    "  'recall_std': 0.040440097374479296,\n",
    "  'th': 0.10200000000000001},\n",
    " {'d': 3,\n",
    "  'dropout': 0.5731037441915432,\n",
    "  'latent_dim': 2048,\n",
    "  'latent_dim2': 128,\n",
    "  'lr': 0.00920552135498809,\n",
    "  'num_epochs': 27,\n",
    "  'num_layers': 1,\n",
    "  'opt': 'adam',\n",
    "  'recall': 0.7171118778654642,\n",
    "  'recall_std': 0.032206004429925175,\n",
    "  'th': 0.12000000000000002},\n",
    " {'d': 4,\n",
    "  'dropout': 0.7758672877829247,\n",
    "  'latent_dim': 256,\n",
    "  'latent_dim2': 64,\n",
    "  'lr': 0.0075772436760977065,\n",
    "  'num_epochs': 25,\n",
    "  'num_layers': 2,\n",
    "  'opt': 'nadam',\n",
    "  'recall': 0.6195179464738917,\n",
    "  'recall_std': 0.0279690037640686,\n",
    "  'th': 0.052000000000000005}]\n",
    "  ```\n",
    "  "
   ]
  },
  {
   "cell_type": "code",
   "execution_count": 38,
   "metadata": {
    "execution": {
     "iopub.execute_input": "2022-06-18T16:56:47.014225Z",
     "iopub.status.busy": "2022-06-18T16:56:47.013824Z",
     "iopub.status.idle": "2022-06-18T16:56:47.021728Z",
     "shell.execute_reply": "2022-06-18T16:56:47.020823Z",
     "shell.execute_reply.started": "2022-06-18T16:56:47.014191Z"
    },
    "id": "8qLDL_8RTAY3",
    "outputId": "f3a69540-6d3c-4c8a-bff0-637f1f76a609"
   },
   "outputs": [],
   "source": [
    "avg_recall = 0.\n",
    "var = 0.\n",
    "for d in range(5):\n",
    "    recall = all_best_params[d]['recall']\n",
    "    std = all_best_params[d]['recall_std']\n",
    "    var += std*std\n",
    "    print(\"d=%d recall=%.4f\" % (d, recall))\n",
    "    avg_recall += recall\n",
    "avg_recall /= 5\n",
    "var /= 5\n",
    "std = pow(var, 0.5)\n",
    "print('Avg recall=%.4f std=%.4f' % (avg_recall, std))"
   ]
  },
  {
   "cell_type": "markdown",
   "metadata": {},
   "source": [
    "```\n",
    "d=0 recall=0.7414\n",
    "d=1 recall=0.7407\n",
    "d=2 recall=0.7354\n",
    "d=3 recall=0.7204\n",
    "d=4 recall=0.6323\n",
    "Avg recall=0.7140 std=0.0711\n",
    "```"
   ]
  },
  {
   "cell_type": "markdown",
   "metadata": {
    "id": "Riv8Fl9nabaX"
   },
   "source": [
    "## Обучение моделей\n"
   ]
  },
  {
   "cell_type": "code",
   "execution_count": 47,
   "metadata": {
    "execution": {
     "iopub.execute_input": "2022-06-18T17:25:35.173776Z",
     "iopub.status.busy": "2022-06-18T17:25:35.173280Z",
     "iopub.status.idle": "2022-06-18T17:25:38.599243Z",
     "shell.execute_reply": "2022-06-18T17:25:38.598062Z",
     "shell.execute_reply.started": "2022-06-18T17:25:35.173737Z"
    },
    "id": "4NKBLoP4ayuZ",
    "outputId": "f7126c26-aed7-4956-8266-3be581acb382"
   },
   "outputs": [],
   "source": [
    "%%time\n",
    "models = []\n",
    "seed = 137\n",
    "for d in range(5):\n",
    "    params = all_best_params[d]\n",
    "    num_epochs = params['num_epochs']\n",
    "    tf.random.set_seed(seed)\n",
    "    model = build_model(params)\n",
    "    history = model.fit(x_data, y_data[d], batch_size=len(x_data), epochs=num_epochs, verbose=0)\n",
    "    models.append(model)\n",
    "    "
   ]
  },
  {
   "cell_type": "markdown",
   "metadata": {
    "id": "aNDyXem3jSsN"
   },
   "source": [
    "## Предсказание на тесте"
   ]
  },
  {
   "cell_type": "code",
   "execution_count": 48,
   "metadata": {
    "execution": {
     "iopub.execute_input": "2022-06-18T17:25:44.613809Z",
     "iopub.status.busy": "2022-06-18T17:25:44.613449Z",
     "iopub.status.idle": "2022-06-18T17:25:45.087352Z",
     "shell.execute_reply": "2022-06-18T17:25:45.086378Z",
     "shell.execute_reply.started": "2022-06-18T17:25:44.613768Z"
    },
    "id": "bW_ybw7MUv-2",
    "outputId": "a5afa4a8-7800-498d-cfb3-c974f8b70c57"
   },
   "outputs": [],
   "source": [
    "ths = [0.5]*5\n",
    "y_preds = [None] * 5\n",
    "avg_recall = 0.\n",
    "for d in range(5):\n",
    "    test_probs = models[d].predict(x_test)\n",
    "    recall = all_best_params[d]['recall']\n",
    "    th = all_best_params[d]['th']\n",
    "    y_preds[d] = get_pred(test_probs, th)\n",
    "    print(\"d=%d th=%.3f Recall=%.4f\" % (d, th, recall))\n",
    "    avg_recall += recall\n",
    "avg_recall /= 5\n",
    "print(\"Avg Recall=%.4f\" % avg_recall)"
   ]
  },
  {
   "cell_type": "code",
   "execution_count": 49,
   "metadata": {
    "execution": {
     "iopub.execute_input": "2022-06-18T17:25:49.879572Z",
     "iopub.status.busy": "2022-06-18T17:25:49.879202Z",
     "iopub.status.idle": "2022-06-18T17:25:49.907358Z",
     "shell.execute_reply": "2022-06-18T17:25:49.906491Z",
     "shell.execute_reply.started": "2022-06-18T17:25:49.879540Z"
    },
    "id": "ajmK1Nppj670",
    "outputId": "321aaeb9-cb2a-4d58-e29e-ceff07dfc614"
   },
   "outputs": [],
   "source": [
    "res_df = pd.DataFrame()\n",
    "res_df['ID'] = test_df.ID.values\n",
    "for d in range(5):\n",
    "    res_df[diseases[d]] = y_preds[d]\n",
    "res_df\n"
   ]
  },
  {
   "cell_type": "code",
   "execution_count": 50,
   "metadata": {
    "execution": {
     "iopub.execute_input": "2022-06-18T17:25:54.176341Z",
     "iopub.status.busy": "2022-06-18T17:25:54.175958Z",
     "iopub.status.idle": "2022-06-18T17:25:54.189513Z",
     "shell.execute_reply": "2022-06-18T17:25:54.187976Z",
     "shell.execute_reply.started": "2022-06-18T17:25:54.176309Z"
    },
    "id": "jB2H8hrtlsaD",
    "outputId": "e86d3a51-6ffa-4dff-a33d-5fdf0e0bbca6"
   },
   "outputs": [],
   "source": [
    "name = 'kaggle-%4d-%d.csv' % (int(avg_recall * 1e4), seed)\n",
    "print(name)\n",
    "res_df.to_csv(name, index=False)"
   ]
  },
  {
   "cell_type": "markdown",
   "metadata": {
    "id": "kCp6CYWVj8cV"
   },
   "source": [
    "## Прочее"
   ]
  },
  {
   "cell_type": "code",
   "execution_count": null,
   "metadata": {
    "id": "Zx4uQMt9_aHU",
    "outputId": "c835c3fb-8675-4f1f-8acf-1f171cac8669"
   },
   "outputs": [],
   "source": [
    "%%time\n",
    "d = 4\n",
    "num_epochs = best_configs[d]['num_epochs']\n",
    "recalls = []\n",
    "ths = []\n",
    "for i in range(10):\n",
    "    seed = i + 300\n",
    "    tf.random.set_seed(seed)\n",
    "    model = build_model(best_configs[d])\n",
    "    history = model.fit(x_train, y_train[d], batch_size=len(x_train), epochs=num_epochs, validation_data=(x_val, y_val[d]), verbose=0)\n",
    "    val_probs = model.predict(x_val)\n",
    "    th, recall = best_th(y_val[d], val_probs)\n",
    "    recalls.append(recall)\n",
    "    ths.append(th)\n",
    "    print('.', end='')\n",
    "print()\n",
    "recalls = np.array(recalls)\n",
    "ths = np.array(ths)\n",
    "print(\"Recalls: mean=%.4f mse=%.4f max=%.4f min=%.4f\" % (recalls.mean(), recalls.std(), recalls.max(), recalls.min()))\n",
    "      "
   ]
  },
  {
   "cell_type": "code",
   "execution_count": null,
   "metadata": {
    "id": "UuqACi15ac_6"
   },
   "outputs": [],
   "source": [
    "%%time\n",
    "for d in range(5):\n",
    "    seed = i + seeds[d]\n",
    "    tf.random.set_seed(seed)\n",
    "    model = build_model(best_configs[d])\n",
    "    history = model.fit(x_train, y_train[d], batch_size=len(x_train), epochs=ep[d], validation_data=(x_val, y_val[d]), verbose=0)\n",
    "    val_probs = model.predict(x_val)\n",
    "    th, recall = best_th(y_val[d], val_probs)\n",
    "    if recall > recalls[d]:\n",
    "        recalls[d] = recall\n",
    "        models[d] = model\n",
    "        seeds[d] = seed\n",
    "        print(\"Updated, seed=%d recall=%.4f (d=%d)\" % (seed, recall, d))\n",
    "    print(\"d=%d Best Recall %.4f\" % (d, recalls[d]))    \n"
   ]
  },
  {
   "cell_type": "markdown",
   "metadata": {
    "id": "T3vFSXpWgjbR"
   },
   "source": [
    "## model 1"
   ]
  },
  {
   "cell_type": "code",
   "execution_count": null,
   "metadata": {
    "id": "mCctMkzDh0zs"
   },
   "outputs": [],
   "source": [
    "def build_model(th=0.5):\n",
    "    model = Sequential()\n",
    "\n",
    "    model.add(Dense(1024, activation='relu'))\n",
    "    # model.add(BatchNormalization())\n",
    "    model.add(Dropout(0.8))\n",
    "\n",
    "    model.add(Dense(64, activation='relu'))\n",
    "    # model.add(BatchNormalization())\n",
    "    model.add(Dropout(0.8))\n",
    "\n",
    "    model.add(Dense(1, activation='sigmoid'))\n",
    "\n",
    "    model.compile(\n",
    "        loss='binary_crossentropy', \n",
    "        optimizer=Adam(learning_rate=0.001),\n",
    "        metrics=[\n",
    "          'accuracy',\n",
    "        #   tf.keras.metrics.Recall(thresholds=th),\n",
    "        #   tf.keras.metrics.AUC()\n",
    "        ]\n",
    "    )\n",
    "\n",
    "    return model\n"
   ]
  },
  {
   "cell_type": "code",
   "execution_count": null,
   "metadata": {
    "id": "Or9jKoi_iO-A"
   },
   "outputs": [],
   "source": [
    "def plot(history):\n",
    "    plt.plot(history.history['accuracy'], \n",
    "         label='Доля верных ответов на обучающем наборе')\n",
    "    plt.plot(history.history['val_accuracy'], \n",
    "            label='Доля верных ответов на проверочном наборе')\n",
    "    plt.xlabel('Эпоха обучения')\n",
    "    plt.ylabel('Доля верных ответов')\n",
    "    plt.legend()\n",
    "    plt.grid()\n",
    "    plt.show()\n",
    "\n",
    "    # plt.plot(history.history['recall'], \n",
    "    #      label='Recall на обучающем наборе')\n",
    "    # plt.plot(history.history['val_recall'], \n",
    "    #         label='Recall на проверочном наборе')\n",
    "    # plt.xlabel('Эпоха обучения')\n",
    "    # plt.ylabel('Recall')\n",
    "    # plt.legend()\n",
    "    # plt.grid()\n",
    "    # plt.show()\n",
    "\n",
    "    # plt.plot(history.history['auc_2'], \n",
    "    #      label='AUC на обучающем наборе')\n",
    "    # plt.plot(history.history['val_auc_2'], \n",
    "    #         label='AUC на проверочном наборе')\n",
    "    # plt.xlabel('Эпоха обучения')\n",
    "    # plt.ylabel('AUC')\n",
    "    # plt.legend()\n",
    "    # plt.grid()\n",
    "    # plt.show()\n",
    "\n",
    "    # Выводим графики ошибки\n",
    "    plt.plot(history.history['loss'], \n",
    "            label='Ошибка на обучающем наборе')\n",
    "    plt.plot(history.history['val_loss'], \n",
    "            label='Ошибка на проверочном наборе')\n",
    "    plt.xlabel('Эпоха обучения')\n",
    "    plt.ylabel('Ошибка')\n",
    "    plt.legend()\n",
    "    plt.grid()\n",
    "    plt.show()"
   ]
  },
  {
   "cell_type": "code",
   "execution_count": null,
   "metadata": {
    "id": "WTYdJK8tqhzT"
   },
   "outputs": [],
   "source": [
    "ep = [60, 35, 30, 16, 25]"
   ]
  },
  {
   "cell_type": "code",
   "execution_count": null,
   "metadata": {
    "id": "2mYz59Pir9xo",
    "outputId": "d5b70ca3-8835-4089-8937-68a01efdea6a"
   },
   "outputs": [],
   "source": [
    "seeds = [1] * 5\n",
    "recalls = [0.5]*5\n",
    "models = [None]*5\n",
    "seeds"
   ]
  },
  {
   "cell_type": "code",
   "execution_count": null,
   "metadata": {
    "id": "45Eol6RnkHYD",
    "outputId": "28f2a539-0f47-458d-e00f-880e02c0dc49"
   },
   "outputs": [],
   "source": [
    "seed(2)\n",
    "tf.random.set_seed(3)\n",
    "d = 0\n",
    "model = build_model(th=y_data[d].mean())\n",
    "history = model.fit(x_train, \n",
    "                    y_train[d], \n",
    "                    batch_size=len(x_train), \n",
    "                    epochs=ep[d],\n",
    "                    validation_data=(x_val, y_val[d]),\n",
    "                    verbose=0)\n",
    "\n",
    "plot(history)"
   ]
  },
  {
   "cell_type": "code",
   "execution_count": null,
   "metadata": {
    "id": "p4a-MvrBh194",
    "outputId": "564d0b94-78ee-4038-bdb6-e5b52407bdad"
   },
   "outputs": [],
   "source": [
    "%%time\n",
    "#Updated, i=14 recall=0.7714\n",
    "d = 0\n",
    "for i in range(50):\n",
    "    seed = i + seeds[d]\n",
    "    tf.random.set_seed(seed)\n",
    "    model = build_model()\n",
    "    history = model.fit(x_train, y_train[d], batch_size=len(x_train), epochs=ep[d], validation_data=(x_val, y_val[d]), verbose=0)\n",
    "    val_probs = model.predict(x_val)\n",
    "    th, recall = best_th(y_val[d], val_probs)\n",
    "    if recall > recalls[d]:\n",
    "        recalls[d] = recall\n",
    "        models[d] = model\n",
    "        seeds[d] = seed\n",
    "        print(\"Updated, seed=%d recall=%.4f (d=%d)\" % (seed, recall, d))\n",
    "print(\"d=%d Best Recall %.4f\" % (d, recalls[d]))        "
   ]
  },
  {
   "cell_type": "code",
   "execution_count": null,
   "metadata": {
    "id": "7FSzS1DDvGHA"
   },
   "outputs": [],
   "source": [
    "inds = [50]*50"
   ]
  },
  {
   "cell_type": "code",
   "execution_count": null,
   "metadata": {
    "id": "gT67j_5Mwwk8",
    "outputId": "a74b60d8-ee09-409c-f44b-e818e7b95cce"
   },
   "outputs": [],
   "source": [
    "%%time\n",
    "for d in range(5):\n",
    "    for i in range(inds[d], inds[d]+50):\n",
    "        seed = i + seeds[d]\n",
    "        tf.random.set_seed(seed)\n",
    "        model = build_model()\n",
    "        history = model.fit(x_train, y_train[d], batch_size=len(x_train), epochs=ep[d], validation_data=(x_val, y_val[d]), verbose=0)\n",
    "        val_probs = model.predict(x_val)\n",
    "        th, recall = best_th(y_val[d], val_probs)\n",
    "        if recall > recalls[d]:\n",
    "            recalls[d] = recall\n",
    "            models[d] = model\n",
    "            seeds[d] = seed\n",
    "            print(\"Updated, seed=%d recall=%.4f (d=%d)\" % (seed, recall, d))\n",
    "    print(\"d=%d Best Recall %.4f\" % (d, recalls[d]))    \n",
    "    inds[d] += 50    "
   ]
  },
  {
   "cell_type": "markdown",
   "metadata": {
    "id": "Ec0KBmDM6GtY"
   },
   "source": [
    "```\n",
    "([0.7730158730158729,\n",
    "  0.6905405405405406,\n",
    "  0.6694117647058824,\n",
    "  0.6675479180436219,\n",
    "  0.5775091960063059],\n",
    " [63, 32, 39, 42, 128],\n",
    " ```"
   ]
  },
  {
   "cell_type": "code",
   "execution_count": null,
   "metadata": {
    "id": "WjsC3N_y1XrG",
    "outputId": "041ce860-1b02-4862-b298-e488a45f79fd"
   },
   "outputs": [],
   "source": [
    "recalls, seeds, models"
   ]
  },
  {
   "cell_type": "code",
   "execution_count": null,
   "metadata": {
    "id": "8-12jd8i1n0P",
    "outputId": "4596dbdf-f274-42b1-c1bf-2fa67876f9f2"
   },
   "outputs": [],
   "source": [
    "ths = [0.5]*5\n",
    "y_preds = [None] * 5\n",
    "avg_recall = 0.\n",
    "for d in range(5):\n",
    "    val_probs = models[d].predict(x_val)\n",
    "    th, recall = best_th(y_val[d], val_probs)\n",
    "    test_probs = models[d].predict(x_test)\n",
    "    y_preds[d] = get_pred(test_probs, th)\n",
    "    avg_recall += recall\n",
    "    ths[d] = th\n",
    "    print(\"d=%d th=%.3f Recall=%.4f\" % (d, th, recall))\n",
    "avg_recall /= 5\n",
    "print(\"Avg Recall=%.4f\" % avg_recall)\n"
   ]
  },
  {
   "cell_type": "code",
   "execution_count": null,
   "metadata": {
    "id": "L9f1Lna33e5-",
    "outputId": "099505a4-7e15-41aa-c024-5334677919dd"
   },
   "outputs": [],
   "source": [
    "res_df = pd.DataFrame()\n",
    "res_df['ID'] = test_df.ID.values\n",
    "for d in range(5):\n",
    "    res_df[diseases[d]] = y_preds[d]\n",
    "res_df\n"
   ]
  },
  {
   "cell_type": "code",
   "execution_count": null,
   "metadata": {
    "id": "cF1GDabG4DRJ",
    "outputId": "f64f289d-738b-475e-df89-f2638e356e98"
   },
   "outputs": [],
   "source": [
    "name = 'submit-%4d.csv' % int(avg_recall * 1e4)\n",
    "print(name)\n",
    "res_df.to_csv(name, index=False)"
   ]
  },
  {
   "cell_type": "markdown",
   "metadata": {
    "id": "b-gyRvkp8xv7"
   },
   "source": [
    "## Fit threshold"
   ]
  },
  {
   "cell_type": "code",
   "execution_count": null,
   "metadata": {
    "id": "LjdjWPsdIzKf",
    "outputId": "3618ffbe-5455-4c55-c3fb-451ac6bda624"
   },
   "outputs": [],
   "source": [
    "sds = [63, 103, 126, 112, 277]\n",
    "for d in range(5):\n",
    "    seed = sds[d]\n",
    "    tf.random.set_seed(seed)\n",
    "    model = build_model()\n",
    "    history = model.fit(x_train, y_train[d], batch_size=len(x_train), epochs=ep[d], validation_data=(x_val, y_val[d]), verbose=0)\n",
    "    val_probs = model.predict(x_val)\n",
    "    th, recall = best_th(y_val[d], val_probs)\n",
    "    print(\"seed=%d recall=%.4f (d=%d)\" % (seed, recall, d))"
   ]
  },
  {
   "cell_type": "code",
   "execution_count": null,
   "metadata": {
    "id": "N8NgOmsQch2O",
    "outputId": "c2e0843d-5f66-446c-ba36-9373a03acefd"
   },
   "outputs": [],
   "source": [
    "from hyperopt import fmin, tpe, hp\n",
    "best = fmin(fn=lambda x: x ** 2,\n",
    "    space=hp.uniform('x', -10, 10),\n",
    "    algo=tpe.suggest,\n",
    "    max_evals=100)\n",
    "print(best)"
   ]
  },
  {
   "cell_type": "code",
   "execution_count": null,
   "metadata": {
    "id": "ePy3Ex5rciiN",
    "outputId": "62fb6d1c-bd19-4283-e645-f331233b4c37"
   },
   "outputs": [],
   "source": [
    "import pickle\n",
    "import time\n",
    "from hyperopt import fmin, tpe, hp, STATUS_OK, Trials\n",
    "\n",
    "def objective(x):\n",
    "    return {\n",
    "        'loss': x ** 2,\n",
    "        'status': STATUS_OK,\n",
    "        # -- store other results like this\n",
    "        'eval_time': time.time(),\n",
    "        'other_stuff': {'type': None, 'value': [0, 1, 2]},\n",
    "        # -- attachments are handled differently\n",
    "        'attachments':\n",
    "            {'time_module': pickle.dumps(time.time)}\n",
    "        }\n",
    "trials = Trials()\n",
    "best = fmin(objective,\n",
    "    space=hp.uniform('x', -10, 10),\n",
    "    algo=tpe.suggest,\n",
    "    max_evals=100,\n",
    "    trials=trials)\n",
    "\n",
    "print(best)"
   ]
  },
  {
   "cell_type": "code",
   "execution_count": null,
   "metadata": {
    "id": "hsGo13-lfOrS",
    "outputId": "36b8201a-c01c-480e-907c-bff0939994e9"
   },
   "outputs": [],
   "source": [
    "best"
   ]
  },
  {
   "cell_type": "code",
   "execution_count": null,
   "metadata": {
    "id": "Dqv8BDw9f12U",
    "outputId": "a9191513-9121-4058-cd69-7c49a342e063"
   },
   "outputs": [],
   "source": [
    "objective(best['x'])"
   ]
  },
  {
   "cell_type": "code",
   "execution_count": null,
   "metadata": {
    "id": "xxM2Sojyf8ds"
   },
   "outputs": [],
   "source": [
    "msg = trials.trial_attachments(trials.trials[5])['time_module']\n",
    "time_module = pickle.loads(msg)"
   ]
  },
  {
   "cell_type": "code",
   "execution_count": null,
   "metadata": {
    "id": "pCOYikOLge7s",
    "outputId": "c422fb99-2f5f-4313-a81e-eea95a961913"
   },
   "outputs": [],
   "source": [
    "from hyperopt import hp\n",
    "import hyperopt.pyll.stochastic\n",
    "\n",
    "space = hp.choice('a',\n",
    "    [\n",
    "        ('case 1', 1 + hp.lognormal('c1', 0, 1)),\n",
    "        ('case 2', hp.uniform('c2', -10, 10))\n",
    "    ])\n",
    "print(hyperopt.pyll.stochastic.sample(space))"
   ]
  },
  {
   "cell_type": "code",
   "execution_count": null,
   "metadata": {
    "id": "3Al79kxmg2zE"
   },
   "outputs": [],
   "source": []
  }
 ],
 "metadata": {
  "kernelspec": {
   "display_name": "Python 3 (ipykernel)",
   "language": "python",
   "name": "python3"
  },
  "language_info": {
   "codemirror_mode": {
    "name": "ipython",
    "version": 3
   },
   "file_extension": ".py",
   "mimetype": "text/x-python",
   "name": "python",
   "nbconvert_exporter": "python",
   "pygments_lexer": "ipython3",
   "version": "3.9.12"
  }
 },
 "nbformat": 4,
 "nbformat_minor": 4
}